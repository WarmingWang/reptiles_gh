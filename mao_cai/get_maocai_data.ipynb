{
 "cells": [
  {
   "cell_type": "markdown",
   "metadata": {},
   "source": []
  },
  {
   "cell_type": "code",
   "execution_count": 8,
   "metadata": {},
   "outputs": [],
   "source": [
    "import requests\n",
    "from bs4 import BeautifulSoup"
   ]
  },
  {
   "cell_type": "code",
   "execution_count": 9,
   "metadata": {
    "collapsed": true
   },
   "outputs": [],
   "source": [
    "#饿了么\n",
    "ele_chuan_hun = 'https://www.ele.me/shop/1363704'       #川魂\n",
    "ele_chuan_xiang = 'https://www.ele.me/shop/161454779'   #川香\n",
    "ele_da_pai = 'https://www.ele.me/shop/157458264'        #大牌冒菜\n",
    "\n",
    "ele_urls=[ele_chuan_hun,ele_chuan_xiang,ele_da_pai]"
   ]
  },
  {
   "cell_type": "markdown",
   "metadata": {},
   "source": [
    "#### `requests` 获取html"
   ]
  },
  {
   "cell_type": "code",
   "execution_count": 4,
   "metadata": {
    "collapsed": true
   },
   "outputs": [],
   "source": [
    "def get_html(url):\n",
    "    try:\n",
    "        r=requests.get(url,timeout=16)\n",
    "        status=r.status_code\n",
    "        r.raise_for_status()\n",
    "        r.encoding=r.apparent_encoding\n",
    "        return r.text\n",
    "    except:\n",
    "        now_time=time.strftime('%Y%m%d%H%M%S')\n",
    "        logging.info(now_time +'      ' +'get_html 异常, ' '    url：'+ url)   "
   ]
  },
  {
   "cell_type": "markdown",
   "metadata": {},
   "source": [
    "#### 尝试获取 `n` 次"
   ]
  },
  {
   "cell_type": "code",
   "execution_count": 5,
   "metadata": {
    "collapsed": true
   },
   "outputs": [],
   "source": [
    "def get_n_times(page_url,n=5):\n",
    "    #获取页面失败或服务器错误是，重试n次\n",
    "    i=1\n",
    "    sleep_time=0.1\n",
    "    index_page=get_html(page_url)\n",
    "    \n",
    "    while index_page==None or \"小差\" in index_page:\n",
    "        if i > n:\n",
    "            break\n",
    "        else:\n",
    "            time.sleep(sleep_time)\n",
    "            index_page=get_html(page_url)\n",
    "            sleep_time+=0.1\n",
    "            i+=1                \n",
    "                               \n",
    "    return index_page"
   ]
  },
  {
   "cell_type": "markdown",
   "metadata": {},
   "source": [
    "#### 页面解析"
   ]
  },
  {
   "cell_type": "markdown",
   "metadata": {},
   "source": [
    "获取目标：\n",
    "- 月售\n",
    "- 热销\n",
    "- 综合评价\n",
    " - 全部评价数量\n",
    " - 满意数量\n",
    " - 不满意数量\n",
    "- 平均送达速度"
   ]
  },
  {
   "cell_type": "code",
   "execution_count": null,
   "metadata": {
    "collapsed": true
   },
   "outputs": [],
   "source": []
  }
 ],
 "metadata": {
  "kernelspec": {
   "display_name": "Python 3",
   "language": "python",
   "name": "python3"
  },
  "language_info": {
   "codemirror_mode": {
    "name": "ipython",
    "version": 3
   },
   "file_extension": ".py",
   "mimetype": "text/x-python",
   "name": "python",
   "nbconvert_exporter": "python",
   "pygments_lexer": "ipython3",
   "version": "3.5.3"
  },
  "toc": {
   "nav_menu": {},
   "number_sections": true,
   "sideBar": true,
   "skip_h1_title": false,
   "toc_cell": false,
   "toc_position": {},
   "toc_section_display": "block",
   "toc_window_display": false
  }
 },
 "nbformat": 4,
 "nbformat_minor": 2
}
