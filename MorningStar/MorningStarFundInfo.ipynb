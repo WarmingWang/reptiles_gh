{
 "cells": [
  {
   "cell_type": "markdown",
   "metadata": {},
   "source": [
    "# 思路\n",
    "\n",
    "## 关于晨星评级图片的处理\n",
    "- 晨星评级信息时一个图片且url地址无规律因此采用图片识别的办法判断星级\n",
    "- 首先获取到星级的url后，通过`request`下载对应的图片`gif`格式\n",
    "- 将`gif`转化为`png`\n",
    "- 将`png`读入为一个数组\n",
    "- 星级图片像素：17\\*66的黑白图片，因此直接对数组求和即可得到唯一值"
   ]
  },
  {
   "cell_type": "markdown",
   "metadata": {},
   "source": [
    "# 代码实现"
   ]
  },
  {
   "cell_type": "code",
   "execution_count": 1,
   "metadata": {
    "collapsed": true
   },
   "outputs": [],
   "source": [
    "from PIL import Image\n",
    "import os \n",
    "from selenium import webdriver\n",
    "import requests\n",
    "import numpy as np\n",
    "import time\n",
    "from datetime import datetime\n",
    "import pandas as pd "
   ]
  },
  {
   "cell_type": "markdown",
   "metadata": {},
   "source": [
    "## 公用函数"
   ]
  },
  {
   "cell_type": "markdown",
   "metadata": {},
   "source": [
    "### 将`gif`转换为`png`"
   ]
  },
  {
   "cell_type": "code",
   "execution_count": 15,
   "metadata": {
    "collapsed": true
   },
   "outputs": [],
   "source": [
    "def gif2png(gifPath):\n",
    "#例如：gifPath =  '4.gif'\n",
    "    im = Image.open(gifPath)\n",
    "    #使用Image模块的open()方法打开gif动态图像时，默认是第一帧\n",
    "\n",
    "    pngPath = gifPath[:-4]\n",
    "\n",
    "    try:\n",
    "        while True:\n",
    "            #保存当前帧图片\n",
    "            current = im.tell()\n",
    "            im.save(pngPath+'.png')\n",
    "            #获取下一帧图片\n",
    "            im.seek(current+1)\n",
    "    except EOFError:\n",
    "            pass"
   ]
  },
  {
   "cell_type": "markdown",
   "metadata": {},
   "source": [
    "### 计算`png`的`sum`值"
   ]
  },
  {
   "cell_type": "code",
   "execution_count": 16,
   "metadata": {
    "collapsed": true
   },
   "outputs": [],
   "source": [
    "def sum_png(png_path):\n",
    "    image = Image.open(png_path)\n",
    "    image_arr = np.array(image)\n",
    "    return np.sum(image_arr)"
   ]
  },
  {
   "cell_type": "markdown",
   "metadata": {},
   "source": [
    "### 将星级图片的`url`转换为`sum`值"
   ]
  },
  {
   "cell_type": "code",
   "execution_count": 17,
   "metadata": {
    "collapsed": true
   },
   "outputs": [],
   "source": [
    "def url2sum(url):\n",
    "    r = requests.get(url)\n",
    "    with open(\"temp.png\", \"wb\")as f:\n",
    "        f.write(r.content)\n",
    "    return sum_png('temp.png')   "
   ]
  },
  {
   "cell_type": "markdown",
   "metadata": {},
   "source": [
    "### 将列表中的数字文本转为`float`类型"
   ]
  },
  {
   "cell_type": "code",
   "execution_count": 18,
   "metadata": {
    "collapsed": true
   },
   "outputs": [],
   "source": [
    "def text2float(text_list):\n",
    "    float_list=[]\n",
    "    for item in text_list:\n",
    "        try:\n",
    "            item = float(item)\n",
    "        except:\n",
    "            pass\n",
    "#         if item !='-' and len(item)<=5:  #没有业绩的跳过\n",
    "#             item = float(item)\n",
    "        float_list.append(item)\n",
    "    return float_list"
   ]
  },
  {
   "cell_type": "markdown",
   "metadata": {},
   "source": [
    "### 将字典转化为`series`\n",
    "- 输入两个`list`：`keys`、`valus`\n",
    "- 输出一个 `sereis`"
   ]
  },
  {
   "cell_type": "code",
   "execution_count": 19,
   "metadata": {
    "collapsed": true
   },
   "outputs": [],
   "source": [
    "def dic2series(keys,values):\n",
    "    make_dic = dict(zip(keys,values))\n",
    "    return pd.Series(make_dic)"
   ]
  },
  {
   "cell_type": "markdown",
   "metadata": {},
   "source": [
    "## 函数形式获取某只基金的信息"
   ]
  },
  {
   "cell_type": "code",
   "execution_count": 7,
   "metadata": {
    "collapsed": true
   },
   "outputs": [],
   "source": [
    "def get_info_by_fund_id(fund_id):\n",
    "    fund_url = 'https://cn.morningstar.com/quicktake/' + fund_id \n",
    "    browser =webdriver.Firefox()\n",
    "\n",
    "    #只加载10s\n",
    "    browser.set_page_load_timeout(10)\n",
    "\n",
    "    try:\n",
    "        browser.get(fund_url)\n",
    "    except Exception:\n",
    "        browser.execute_script('window.stop()')\n",
    "\n",
    "    #模拟用户登录\n",
    "    username = browser.find_element_by_id('emailTxt')\n",
    "    password = browser.find_element_by_id('pwdValue')\n",
    "\n",
    "    username.send_keys('ryan_jin@sina.com')  \n",
    "    password.send_keys('pa_wo@17.ms')\n",
    "    submit = browser.find_element_by_id('loginGo')\n",
    "    a = submit.text\n",
    "    submit.click()\n",
    "\n",
    "    time.sleep(10)\n",
    "    browser.execute_script('window.stop()')\n",
    "    \n",
    "    \n",
    "    browser.quit()"
   ]
  },
  {
   "cell_type": "markdown",
   "metadata": {},
   "source": [
    "## 按步骤调试"
   ]
  },
  {
   "cell_type": "markdown",
   "metadata": {},
   "source": [
    "### 打开页面"
   ]
  },
  {
   "cell_type": "code",
   "execution_count": 3,
   "metadata": {
    "collapsed": true
   },
   "outputs": [],
   "source": [
    "fund_id='F0000004AI'"
   ]
  },
  {
   "cell_type": "code",
   "execution_count": 9,
   "metadata": {},
   "outputs": [],
   "source": [
    "fund_url = 'https://www.morningstar.cn/quicktake/' + fund_id \n",
    "browser =webdriver.Firefox()\n",
    "#只加载10s\n",
    "browser.set_page_load_timeout(10)\n",
    "\n",
    "try:\n",
    "    browser.get(fund_url)\n",
    "except Exception:\n",
    "    browser.execute_script('window.stop()')"
   ]
  },
  {
   "cell_type": "code",
   "execution_count": 10,
   "metadata": {
    "collapsed": true
   },
   "outputs": [],
   "source": [
    "#模拟用户登录\n",
    "username = browser.find_element_by_id('emailTxt')\n",
    "password = browser.find_element_by_id('pwdValue')\n",
    "checkCode = browser.find_element_by_id('txtCheckCode')"
   ]
  },
  {
   "cell_type": "code",
   "execution_count": 12,
   "metadata": {
    "collapsed": true
   },
   "outputs": [],
   "source": [
    "checkCodeTxt = '89653'"
   ]
  },
  {
   "cell_type": "code",
   "execution_count": 13,
   "metadata": {
    "collapsed": true
   },
   "outputs": [],
   "source": [
    "username.send_keys('ryan_jin@sina.com')  \n",
    "password.send_keys('pa_wo@17.ms')\n",
    "checkCode.send_keys(checkCodeTxt)\n",
    "submit = browser.find_element_by_id('loginGo')\n",
    "a = submit.text\n",
    "submit.click()\n",
    "\n",
    "time.sleep(10)\n",
    "browser.execute_script('window.stop()')"
   ]
  },
  {
   "cell_type": "code",
   "execution_count": 25,
   "metadata": {
    "scrolled": true
   },
   "outputs": [],
   "source": [
    "#弹窗获取输入值\n",
    "from tkinter import *\n",
    "import tkinter.messagebox\n",
    " \n",
    " \n",
    "def getInput(title, message):\n",
    "    def return_callback(event):\n",
    "        print('quit...')\n",
    "        root.quit()\n",
    "    def close_callback():\n",
    "        tkMessageBox.showinfo('message', 'no click...')\n",
    "    root = Tk(className=title)\n",
    "    root.wm_attributes('-topmost', 1)\n",
    "    screenwidth, screenheight = root.maxsize()\n",
    "    width = 300\n",
    "    height = 100\n",
    "    size = '%dx%d+%d+%d' % (width, height, (screenwidth - width)/2, (screenheight - height)/2)\n",
    "    root.geometry(size)\n",
    "    root.resizable(0, 0)\n",
    "    lable = Label(root, height=2)\n",
    "    lable['text'] = message\n",
    "    lable.pack()\n",
    "    entry = Entry(root)\n",
    "    entry.bind('<Return>', return_callback)\n",
    "    entry.pack()\n",
    "    entry.focus_set()\n",
    "    root.protocol(\"WM_DELETE_WINDOW\", close_callback)\n",
    "    root.mainloop()\n",
    "    str = entry.get()\n",
    "    root.destroy()\n",
    "    return str"
   ]
  },
  {
   "cell_type": "code",
   "execution_count": 30,
   "metadata": {},
   "outputs": [
    {
     "name": "stdout",
     "output_type": "stream",
     "text": [
      "quit...\n"
     ]
    },
    {
     "data": {
      "text/plain": [
       "'12345'"
      ]
     },
     "execution_count": 30,
     "metadata": {},
     "output_type": "execute_result"
    }
   ],
   "source": [
    "code = getInput(\"输入验证码\", '验证码')\n",
    "code"
   ]
  },
  {
   "cell_type": "markdown",
   "metadata": {},
   "source": [
    "### 基金基本信息"
   ]
  },
  {
   "cell_type": "code",
   "execution_count": 20,
   "metadata": {},
   "outputs": [],
   "source": [
    "qt_base = browser.find_element_by_id('qt_base')\n",
    "\n",
    "#基金代码 & 名称\n",
    "f_title = browser.find_element_by_id('qt_fund').text\n",
    "f_code =f_title[:6]\n",
    "f_name = f_title[7:]\n",
    "\n",
    "#净值\n",
    "jingZhi = float(qt_base.find_element_by_xpath('//div/ul/li[2]/span').text)\n",
    "\n",
    "#净值日期\n",
    "jingZhiDate = qt_base.find_element_by_class_name('date').text[5:]\n",
    "\n",
    "#基金类型\n",
    "f_type = qt_base.find_element_by_class_name('category').text\n",
    "\n",
    "#创建时间\n",
    "found_date = qt_base.find_element_by_class_name('inception').text\n",
    "\n",
    "#基金风格箱\n",
    "f_style = qt_base.find_element_by_class_name('sbdesc').text\n",
    "\n",
    "#总净资产（亿元）\n",
    "total_asset = float(qt_base.find_element_by_class_name('asset').text)\n",
    "\n",
    "#[基金代码，名称，基金类型，基金风格箱，总净资产,净值，净值日期，创建时间，]\n",
    "base_info_values = text2float([f_code,f_name,f_type,f_style,total_asset,jingZhi,jingZhiDate,found_date])\n",
    "base_info_keys = ['代码','名称','分类','风格','总净资产(亿元)','净值','净值日期','创建时间']\n",
    "base_info =dict(zip(base_info_keys,base_info_values))\n",
    "base_info_series  = pd.Series(base_info)"
   ]
  },
  {
   "cell_type": "markdown",
   "metadata": {},
   "source": [
    "### 基金管理信息"
   ]
  },
  {
   "cell_type": "code",
   "execution_count": 10,
   "metadata": {
    "collapsed": true
   },
   "outputs": [],
   "source": [
    "qt_management = browser.find_element_by_id('qt_management')"
   ]
  },
  {
   "cell_type": "code",
   "execution_count": 11,
   "metadata": {
    "collapsed": true
   },
   "outputs": [],
   "source": [
    "company_name = qt_management.find_elements_by_tag_name('a')[1].text"
   ]
  },
  {
   "cell_type": "code",
   "execution_count": 40,
   "metadata": {},
   "outputs": [
    {
     "data": {
      "text/plain": [
       "'易方达基金管理有限公司'"
      ]
     },
     "execution_count": 40,
     "metadata": {},
     "output_type": "execute_result"
    }
   ],
   "source": [
    "company_name"
   ]
  },
  {
   "cell_type": "code",
   "execution_count": 12,
   "metadata": {
    "collapsed": true
   },
   "outputs": [],
   "source": [
    "qt_manager = browser.find_element_by_id('qt_manager')"
   ]
  },
  {
   "cell_type": "code",
   "execution_count": 34,
   "metadata": {},
   "outputs": [
    {
     "data": {
      "text/plain": [
       "'张坤'"
      ]
     },
     "execution_count": 34,
     "metadata": {},
     "output_type": "execute_result"
    }
   ],
   "source": [
    "f_manager = qt_manager.find_elements_by_tag_name('a')[0].text\n",
    "f_manager"
   ]
  },
  {
   "cell_type": "code",
   "execution_count": 37,
   "metadata": {},
   "outputs": [
    {
     "data": {
      "text/plain": [
       "'2012-09-28'"
      ]
     },
     "execution_count": 37,
     "metadata": {},
     "output_type": "execute_result"
    }
   ],
   "source": [
    "manager_from = qt_manager.find_elements_by_tag_name('i')[0].text[:10]\n",
    "manager_from"
   ]
  },
  {
   "cell_type": "code",
   "execution_count": 38,
   "metadata": {
    "collapsed": true
   },
   "outputs": [],
   "source": [
    "manager_time = qt_manager.find_elements_by_tag_name('span')[0].text[5:]"
   ]
  },
  {
   "cell_type": "code",
   "execution_count": 39,
   "metadata": {},
   "outputs": [
    {
     "data": {
      "text/plain": [
       "'8年104天'"
      ]
     },
     "execution_count": 39,
     "metadata": {},
     "output_type": "execute_result"
    }
   ],
   "source": [
    "manager_time"
   ]
  },
  {
   "cell_type": "markdown",
   "metadata": {},
   "source": [
    "### 历史业绩"
   ]
  },
  {
   "cell_type": "code",
   "execution_count": 99,
   "metadata": {
    "collapsed": true
   },
   "outputs": [],
   "source": [
    "qt_per = browser.find_element_by_id('qt_per')\n",
    "\n",
    "#获取近8年的业绩表现\n",
    "performance_8_values =text2float([qt_per.find_element_by_class_name(r_x).text \n",
    "                                  for r_x in ['r0','r1','r2','r3','r4','r5','r6','r7']])\n",
    "\n",
    "this_year = datetime.now().year\n",
    "\n",
    "performance_8_keys = ['今年业绩%',\n",
    "                      str(this_year-1 ) + \"业绩(%)\" ,\n",
    "                      str(this_year-2 ) + \"业绩(%)\" ,\n",
    "                      str(this_year-3 ) + \"业绩(%)\" ,\n",
    "                      str(this_year-4 ) + \"业绩(%)\" ,\n",
    "                      str(this_year-5 ) + \"业绩(%)\" ,\n",
    "                      str(this_year-6 ) + \"业绩(%)\" ,\n",
    "                      str(this_year-7 ) + \"业绩(%)\" ,]\n",
    "\n",
    "performance_8 = dict(zip(performance_8_keys,performance_8_values))\n",
    "\n",
    "performance_8_series  = pd.Series(performance_8)"
   ]
  },
  {
   "cell_type": "markdown",
   "metadata": {},
   "source": [
    "### 历史回报"
   ]
  },
  {
   "cell_type": "code",
   "execution_count": 113,
   "metadata": {
    "collapsed": true
   },
   "outputs": [],
   "source": [
    "qt_return1= browser.find_element_by_id('qt_return1')\n",
    "\n",
    "#历史回报[一个月，三个月，六个月，今年以来，一年，二年年化，三年年化，五年年化，十年年化]\n",
    "history_return_values = text2float([qt_return1.find_elements_by_tag_name('li')[li_no].text \n",
    "                                    for li_no in [6,11,16,21,26,31,36,41,46]])\n",
    "\n",
    "history_return_keys = ['一个月回报',\n",
    "                      '三个月回报',\n",
    "                      '六个月回报',\n",
    "                      '今年回报',\n",
    "                      '一年年化',\n",
    "                      '两年年化',\n",
    "                      '三年年化',\n",
    "                      '五年年化',\n",
    "                      '十年年化']\n",
    "history_return = dict(zip(history_return_keys,history_return_values))\n",
    "history_return_series = pd.Series(history_return)"
   ]
  },
  {
   "cell_type": "markdown",
   "metadata": {},
   "source": [
    "### 历史最差回报"
   ]
  },
  {
   "cell_type": "code",
   "execution_count": 127,
   "metadata": {
    "collapsed": true
   },
   "outputs": [],
   "source": [
    "qt_worst = browser.find_element_by_id('qt_worst')\n",
    "\n",
    "#最差3个月，最差6个月回报\n",
    "worst3_6_values = text2float([qt_worst.find_elements_by_tag_name('li')[li_no].text for li_no in [1,3]])\n",
    "worst3_6_keys = ['最差3个月回报','最差6个月回报']\n",
    "worst3_6_series = dic2series(worst3_6_keys,worst3_6_values)"
   ]
  },
  {
   "cell_type": "markdown",
   "metadata": {},
   "source": [
    "### 晨星评级"
   ]
  },
  {
   "cell_type": "code",
   "execution_count": 128,
   "metadata": {
    "collapsed": true
   },
   "outputs": [],
   "source": [
    "#获取评级的图片url\n",
    "qt_star =browser.find_element_by_id('qt_star')\n",
    "star_elements = qt_star.find_elements_by_tag_name('img')\n",
    "star_urls = [star_elements[no_img].get_attribute(\"src\") for no_img in [0,1,2]]\n",
    "\n",
    "#计算0-5星的sum值以备查找\n",
    "stars_sum = [sum_png('0.png'),sum_png('1.png'),sum_png('2.png'),sum_png('3.png'),sum_png('4.png'),sum_png('5.png')]\n",
    "\n",
    "#获取本基金3年/5年/10年评级图片sum值\n",
    "these_stars = [url2sum(url) for url in star_urls]\n",
    "\n",
    "#比对sum值获得评级\n",
    "stars_level_values = [stars_sum.index(sum_value) for sum_value in these_stars]\n",
    "stars_level_keys = ['3年评级','5年评级','10年评级']\n",
    "stars_level_series = dic2series(stars_level_keys,stars_level_values)"
   ]
  },
  {
   "cell_type": "markdown",
   "metadata": {},
   "source": [
    "### 风险评估\n",
    "输出下记形式列表：【标准差，晨星风险系数，夏普比率，阿尔法系数，贝塔系数，R平方】"
   ]
  },
  {
   "cell_type": "code",
   "execution_count": 9,
   "metadata": {
    "collapsed": true
   },
   "outputs": [],
   "source": [
    "qt_risk = browser.find_element_by_id('qt_risk')\n",
    "qt_risk_lists = qt_risk.find_elements_by_tag_name('li')\n",
    "\n",
    "#标准差，晨星风险系数，夏普比率\n",
    "risks1 = [qt_risk_lists[li_no].text for li_no in [15,22,29]]\n",
    "\n",
    "qt_riskstats =browser.find_element_by_id('qt_riskstats')\n",
    "qt_riskstats_lists = qt_riskstats.find_elements_by_tag_name('li')\n",
    "\n",
    "#阿尔法系数，贝塔系数，R平方\n",
    "risks2 = [qt_riskstats_lists[li_no].text for li_no in [4,7,10]]\n",
    "\n",
    "#risk输出\n",
    "risks_values = text2float(risks1 + risks2)\n",
    "risks_keys = ['标准差',\n",
    "             '晨星风险系数',\n",
    "             '夏普比率',\n",
    "             '阿尔法系数',\n",
    "             '贝塔系数',\n",
    "             'R平方']\n",
    "risks_series = dic2series(risks_keys,risks_values)"
   ]
  },
  {
   "cell_type": "code",
   "execution_count": 13,
   "metadata": {},
   "outputs": [
    {
     "data": {
      "text/plain": [
       "['25.35', '13.10', '1.36', '1.32', '0.82']"
      ]
     },
     "execution_count": 13,
     "metadata": {},
     "output_type": "execute_result"
    }
   ],
   "source": [
    "[qt_risk_lists[li_no].text for li_no in [15,22,29,31,33]]"
   ]
  },
  {
   "cell_type": "code",
   "execution_count": null,
   "metadata": {
    "collapsed": true
   },
   "outputs": [],
   "source": []
  },
  {
   "cell_type": "code",
   "execution_count": null,
   "metadata": {
    "collapsed": true
   },
   "outputs": [],
   "source": []
  },
  {
   "cell_type": "markdown",
   "metadata": {},
   "source": [
    "### 风险评级"
   ]
  },
  {
   "cell_type": "code",
   "execution_count": 149,
   "metadata": {
    "collapsed": true
   },
   "outputs": [],
   "source": [
    "qt_rating = browser.find_element_by_id('qt_rating')\n",
    "\n",
    "#获取src字符串的星级数字\n",
    "these_rating_stars = [qt_rating.find_elements_by_tag_name('img')[li_no].get_attribute(\"src\")[-10] for li_no in [0,1,2,3]]\n",
    "risk_stars_values = text2float(these_rating_stars)\n",
    "risk_stars_keys = ['2年风险',\n",
    "                    '3年风险',\n",
    "                    '5年风险',\n",
    "                    '10年风险']\n",
    "risk_stars_seriis = dic2series(risk_stars_keys,risk_stars_values)"
   ]
  },
  {
   "cell_type": "markdown",
   "metadata": {},
   "source": [
    "### 资产分布\n",
    "输出：`asset_distribution` 【现金，股票，债券】"
   ]
  },
  {
   "cell_type": "code",
   "execution_count": 131,
   "metadata": {
    "collapsed": true
   },
   "outputs": [],
   "source": [
    "qt_asset = browser.find_element_by_id('qt_asset')\n",
    "\n",
    "cash_pencent = qt_asset.find_element_by_class_name('cash').text\n",
    "stock_pencent = qt_asset.find_element_by_class_name('stock').text\n",
    "bonds_pencent = qt_asset.find_element_by_class_name('bonds').text\n",
    "\n",
    "#【现金，股票，债券】\n",
    "asset_distribution_values = text2float([cash_pencent,stock_pencent,bonds_pencent])\n",
    "asset_distribution_keys = ['现金比例(%)',\n",
    "                          '股票比例(%)',\n",
    "                          '债券比例(%)']\n",
    "asset_distribution_series = dic2series(asset_distribution_keys,asset_distribution_values)"
   ]
  },
  {
   "cell_type": "markdown",
   "metadata": {},
   "source": [
    "### 数据汇总"
   ]
  },
  {
   "cell_type": "code",
   "execution_count": 150,
   "metadata": {
    "collapsed": true
   },
   "outputs": [],
   "source": [
    "data_series = pd.concat([base_info_series,\n",
    "                         performance_8_series,\n",
    "                        history_return_series,\n",
    "                        worst3_6_series,\n",
    "                        stars_level_series,\n",
    "                        risks_series,\n",
    "                        risk_stars_seriis,\n",
    "                        asset_distribution_series])"
   ]
  },
  {
   "cell_type": "code",
   "execution_count": 151,
   "metadata": {
    "collapsed": true
   },
   "outputs": [],
   "source": [
    "now_time=datetime.now().strftime('%Y-%m-%d_%H-%M-%S')\n",
    "csv_path = now_time + '.csv'"
   ]
  },
  {
   "cell_type": "markdown",
   "metadata": {},
   "source": [
    "## 数据输出"
   ]
  },
  {
   "cell_type": "code",
   "execution_count": 154,
   "metadata": {
    "collapsed": true
   },
   "outputs": [],
   "source": [
    "df = pd.DataFrame(data_series,columns=[fund_id])\n",
    "df.to_csv(csv_path, sep=',', header=True, index=True,encoding='utf_8_sig')"
   ]
  },
  {
   "cell_type": "markdown",
   "metadata": {},
   "source": [
    "## 按条件获取list"
   ]
  },
  {
   "cell_type": "code",
   "execution_count": 113,
   "metadata": {
    "collapsed": true
   },
   "outputs": [],
   "source": [
    "browser = webdriver.Firefox()\n",
    "\n",
    "#只加载10s\n",
    "browser.set_page_load_timeout(10)\n",
    "\n",
    "try:\n",
    "    browser.get('https://cn.morningstar.com/quickrank/default.aspx')\n",
    "except Exception:\n",
    "    browser.execute_script('window.stop()')\n",
    "\n",
    "#模拟用户登录\n",
    "username = browser.find_element_by_id('emailTxt')\n",
    "password = browser.find_element_by_id('pwdValue')\n",
    "\n",
    "username.send_keys('ryan_jin@sina.com')  \n",
    "password.send_keys('pa_wo@17.ms')\n",
    "submit = browser.find_element_by_id('loginGo')\n",
    "a = submit.text\n",
    "\n",
    "try:\n",
    "    submit.click()\n",
    "except:\n",
    "    time.sleep(5)\n",
    "    try:\n",
    "        submit.click()\n",
    "    except:\n",
    "        time.sleep(5)\n",
    "        try:\n",
    "            submit.click()\n",
    "        except:\n",
    "            pass\n",
    "time.sleep(6)\n",
    "pu_tong_gu_piao = browser.find_element_by_id('ctl00_cphMain_cblCategory_0')\n",
    "ji_ji_pei_zhi = browser.find_element_by_id('ctl00_cphMain_cblCategory_7')\n",
    "ling_huo_pei_zhi = browser.find_element_by_id('ctl00_cphMain_cblCategory_8')\n",
    "san_nian_3_xing = browser.find_element_by_id('ctl00_cphMain_cblStarRating_0')\n",
    "wu_nian_3_xing = browser.find_element_by_id('ctl00_cphMain_cblStarRating5_0')\n",
    "search = browser.find_element_by_id('ctl00_cphMain_btnGo')\n",
    "\n",
    "try:\n",
    "    pu_tong_gu_piao.click()\n",
    "    ji_ji_pei_zhi.click()\n",
    "    ling_huo_pei_zhi.click()\n",
    "    san_nian_3_xing.click()\n",
    "    wu_nian_3_xing.click()\n",
    "    search.click()\n",
    "except:\n",
    "    browser.execute_script('window.stop()')"
   ]
  },
  {
   "cell_type": "code",
   "execution_count": 114,
   "metadata": {
    "collapsed": true
   },
   "outputs": [],
   "source": [
    "kai_fang_shi = browser.find_element_by_id('ctl00_cphMain_cblGroup_0')"
   ]
  },
  {
   "cell_type": "code",
   "execution_count": 117,
   "metadata": {
    "collapsed": true
   },
   "outputs": [],
   "source": [
    "kaif_fang_shi.click()"
   ]
  },
  {
   "cell_type": "code",
   "execution_count": 104,
   "metadata": {
    "collapsed": true
   },
   "outputs": [],
   "source": [
    "urls_auto_get=[]\n",
    "number_of_page = 3"
   ]
  },
  {
   "cell_type": "code",
   "execution_count": 105,
   "metadata": {
    "collapsed": true
   },
   "outputs": [],
   "source": [
    "for i in range(1,number_of_page+1):\n",
    "    table = browser.find_element_by_id('ctl00_cphMain_gridResult')\n",
    "    tds = table.find_elements_by_tag_name('a')\n",
    "    a_hrefs = [tds[i].get_attribute('href') for i in range(len(tds))]\n",
    "    a_hrefs = list(set(a_hrefs))\n",
    "    \n",
    "    for item in a_hrefs:\n",
    "        if item.find('java') < 0:\n",
    "            urls_auto_get.append(item)\n",
    "    if i <= number_of_page-1:\n",
    "        try:\n",
    "            next_page = browser.find_element_by_link_text('>')\n",
    "            next_page.click()\n",
    "        except Exception:\n",
    "            browser.execute_script('window.stop()')"
   ]
  },
  {
   "cell_type": "code",
   "execution_count": null,
   "metadata": {
    "collapsed": true
   },
   "outputs": [],
   "source": [
    "time."
   ]
  }
 ],
 "metadata": {
  "kernelspec": {
   "display_name": "Python 3",
   "language": "python",
   "name": "python3"
  },
  "language_info": {
   "codemirror_mode": {
    "name": "ipython",
    "version": 3
   },
   "file_extension": ".py",
   "mimetype": "text/x-python",
   "name": "python",
   "nbconvert_exporter": "python",
   "pygments_lexer": "ipython3",
   "version": "3.5.3"
  },
  "toc": {
   "nav_menu": {
    "height": "458px",
    "width": "537px"
   },
   "number_sections": true,
   "sideBar": true,
   "skip_h1_title": false,
   "toc_cell": false,
   "toc_position": {
    "height": "calc(100% - 180px)",
    "left": "10px",
    "top": "150px",
    "width": "289px"
   },
   "toc_section_display": true,
   "toc_window_display": true
  },
  "varInspector": {
   "cols": {
    "lenName": 16,
    "lenType": 16,
    "lenVar": 40
   },
   "kernels_config": {
    "python": {
     "delete_cmd_postfix": "",
     "delete_cmd_prefix": "del ",
     "library": "var_list.py",
     "varRefreshCmd": "print(var_dic_list())"
    },
    "r": {
     "delete_cmd_postfix": ") ",
     "delete_cmd_prefix": "rm(",
     "library": "var_list.r",
     "varRefreshCmd": "cat(var_dic_list()) "
    }
   },
   "types_to_exclude": [
    "module",
    "function",
    "builtin_function_or_method",
    "instance",
    "_Feature"
   ],
   "window_display": false
  }
 },
 "nbformat": 4,
 "nbformat_minor": 4
}
