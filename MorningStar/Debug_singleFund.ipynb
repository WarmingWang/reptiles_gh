{
 "cells": [
  {
   "cell_type": "markdown",
   "metadata": {},
   "source": [
    "# 思路\n",
    "\n",
    "## 关于晨星评级图片的处理\n",
    "- 晨星评级信息时一个图片且url地址无规律因此采用图片识别的办法判断星级\n",
    "- 首先获取到星级的url后，通过`request`下载对应的图片`gif`格式\n",
    "- 将`gif`转化为`png`\n",
    "- 将`png`读入为一个数组\n",
    "- 星级图片像素：17\\*66的黑白图片，因此直接对数组求和即可得到唯一值"
   ]
  },
  {
   "cell_type": "markdown",
   "metadata": {},
   "source": [
    "# 代码实现"
   ]
  },
  {
   "cell_type": "code",
   "execution_count": 76,
   "metadata": {},
   "outputs": [],
   "source": [
    "from PIL import Image\n",
    "import os \n",
    "from selenium import webdriver\n",
    "import requests\n",
    "import numpy as np\n",
    "import time\n",
    "from datetime import datetime\n",
    "import pandas as pd "
   ]
  },
  {
   "cell_type": "markdown",
   "metadata": {},
   "source": [
    "## 公用函数"
   ]
  },
  {
   "cell_type": "markdown",
   "metadata": {},
   "source": [
    "### 将`gif`转换为`png`"
   ]
  },
  {
   "cell_type": "code",
   "execution_count": 4,
   "metadata": {},
   "outputs": [],
   "source": [
    "def gif2png(gifPath):\n",
    "#例如：gifPath =  '4.gif'\n",
    "    im = Image.open(gifPath)\n",
    "    #使用Image模块的open()方法打开gif动态图像时，默认是第一帧\n",
    "\n",
    "    pngPath = gifPath[:-4]\n",
    "\n",
    "    try:\n",
    "        while True:\n",
    "            #保存当前帧图片\n",
    "            current = im.tell()\n",
    "            im.save(pngPath+'.png')\n",
    "            #获取下一帧图片\n",
    "            im.seek(current+1)\n",
    "    except EOFError:\n",
    "            pass"
   ]
  },
  {
   "cell_type": "markdown",
   "metadata": {},
   "source": [
    "### 计算`png`的`sum`值"
   ]
  },
  {
   "cell_type": "code",
   "execution_count": 1,
   "metadata": {},
   "outputs": [],
   "source": [
    "def sum_png(png_path):\n",
    "    image = Image.open(png_path)\n",
    "    image_arr = np.array(image)\n",
    "    return np.sum(image_arr)"
   ]
  },
  {
   "cell_type": "markdown",
   "metadata": {},
   "source": [
    "### 将星级图片的`url`转换为`sum`值"
   ]
  },
  {
   "cell_type": "code",
   "execution_count": 2,
   "metadata": {},
   "outputs": [],
   "source": [
    "def url2sum(url):\n",
    "    r = requests.get(url)\n",
    "    with open(\"temp.png\", \"wb\")as f:\n",
    "        f.write(r.content)\n",
    "    return sum_png('temp.png')   "
   ]
  },
  {
   "cell_type": "markdown",
   "metadata": {},
   "source": [
    "### 将列表中的数字文本转为`float`类型"
   ]
  },
  {
   "cell_type": "code",
   "execution_count": 59,
   "metadata": {},
   "outputs": [],
   "source": [
    "def text2float(text_list):\n",
    "    float_list=[]\n",
    "    for item in text_list:\n",
    "        try:\n",
    "            item = float(item)\n",
    "        except:\n",
    "            pass\n",
    "#         if item !='-' and len(item)<=5:  #没有业绩的跳过\n",
    "#             item = float(item)\n",
    "        float_list.append(item)\n",
    "    return float_list"
   ]
  },
  {
   "cell_type": "markdown",
   "metadata": {},
   "source": [
    "### 将字典转化为`series`\n",
    "- 输入两个`list`：`keys`、`valus`\n",
    "- 输出一个 `sereis`"
   ]
  },
  {
   "cell_type": "code",
   "execution_count": 112,
   "metadata": {},
   "outputs": [],
   "source": [
    "def dic2series(keys,values):\n",
    "    make_dic = dict(zip(keys,values))\n",
    "    return pd.Series(make_dic)"
   ]
  },
  {
   "cell_type": "markdown",
   "metadata": {},
   "source": [
    "## 函数形式获取某只基金的信息"
   ]
  },
  {
   "cell_type": "code",
   "execution_count": 20,
   "metadata": {},
   "outputs": [],
   "source": [
    "def get_info_by_fund_id(fund_id):\n",
    "    fund_url = 'https://cn.morningstar.com/quicktake/' + fund_id \n",
    "    browser =webdriver.Firefox()\n",
    "\n",
    "    #只加载10s\n",
    "    browser.set_page_load_timeout(10)\n",
    "\n",
    "    try:\n",
    "        browser.get(fund_url)\n",
    "    except Exception:\n",
    "        browser.execute_script('window.stop()')\n",
    "\n",
    "    #模拟用户登录\n",
    "    username = browser.find_element_by_id('emailTxt')\n",
    "    password = browser.find_element_by_id('pwdValue')\n",
    "\n",
    "    username.send_keys('ryan_jin@sina.com')  \n",
    "    password.send_keys('pa_wo@17.ms')\n",
    "    submit = browser.find_element_by_id('loginGo')\n",
    "    a = submit.text\n",
    "    submit.click()\n",
    "\n",
    "    time.sleep(10)\n",
    "    browser.execute_script('window.stop()')\n",
    "    \n",
    "    \n",
    "    browser.quit()"
   ]
  },
  {
   "cell_type": "markdown",
   "metadata": {},
   "source": [
    "## 按步骤调试"
   ]
  },
  {
   "cell_type": "markdown",
   "metadata": {},
   "source": [
    "### 打开页面"
   ]
  },
  {
   "cell_type": "code",
   "execution_count": 23,
   "metadata": {},
   "outputs": [],
   "source": [
    "fund_id='F0000004AI'"
   ]
  },
  {
   "cell_type": "code",
   "execution_count": 24,
   "metadata": {},
   "outputs": [],
   "source": [
    "fund_url = 'https://cn.morningstar.com/quicktake/' + fund_id \n",
    "browser =webdriver.Firefox()\n",
    "\n",
    "#只加载10s\n",
    "browser.set_page_load_timeout(10)\n",
    "\n",
    "try:\n",
    "    browser.get(fund_url)\n",
    "except Exception:\n",
    "    browser.execute_script('window.stop()')\n",
    "\n",
    "#模拟用户登录\n",
    "username = browser.find_element_by_id('emailTxt')\n",
    "password = browser.find_element_by_id('pwdValue')\n",
    "\n",
    "username.send_keys('ryan_jin@sina.com')  \n",
    "password.send_keys('pa_wo@17.ms')\n",
    "submit = browser.find_element_by_id('loginGo')\n",
    "a = submit.text\n",
    "submit.click()\n",
    "\n",
    "time.sleep(10)\n",
    "browser.execute_script('window.stop()')"
   ]
  },
  {
   "cell_type": "markdown",
   "metadata": {},
   "source": [
    "### 基金基本信息"
   ]
  },
  {
   "cell_type": "code",
   "execution_count": 100,
   "metadata": {},
   "outputs": [],
   "source": [
    "qt_base = browser.find_element_by_id('qt_base')\n",
    "\n",
    "#基金代码 & 名称\n",
    "f_title = browser.find_element_by_id('qt_fund').text\n",
    "f_code =f_title[:6]\n",
    "f_name = f_title[7:]\n",
    "\n",
    "#净值\n",
    "jingZhi = float(qt_base.find_element_by_xpath('//div/ul/li[2]/span').text)\n",
    "\n",
    "#净值日期\n",
    "jingZhiDate = qt_base.find_element_by_class_name('date').text[5:]\n",
    "\n",
    "#基金类型\n",
    "f_type = qt_base.find_element_by_class_name('category').text\n",
    "\n",
    "#创建时间\n",
    "found_date = qt_base.find_element_by_class_name('inception').text\n",
    "\n",
    "#基金风格箱\n",
    "f_style = qt_base.find_element_by_class_name('sbdesc').text\n",
    "\n",
    "#总净资产（亿元）\n",
    "total_asset = float(qt_base.find_element_by_class_name('asset').text)\n",
    "\n",
    "#[基金代码，名称，基金类型，基金风格箱，总净资产,净值，净值日期，创建时间，]\n",
    "base_info_values = text2float([f_code,f_name,f_type,f_style,total_asset,jingZhi,jingZhiDate,found_date])\n",
    "base_info_keys = ['代码','名称','分类','风格','总净资产(亿元)','净值','净值日期','创建时间']\n",
    "base_info =dict(zip(base_info_keys,base_info_values))\n",
    "base_info_series  = pd.Series(base_info)"
   ]
  },
  {
   "cell_type": "markdown",
   "metadata": {},
   "source": [
    "### 历史业绩"
   ]
  },
  {
   "cell_type": "code",
   "execution_count": 99,
   "metadata": {},
   "outputs": [],
   "source": [
    "qt_per = browser.find_element_by_id('qt_per')\n",
    "\n",
    "#获取近8年的业绩表现\n",
    "performance_8_values =text2float([qt_per.find_element_by_class_name(r_x).text \n",
    "                                  for r_x in ['r0','r1','r2','r3','r4','r5','r6','r7']])\n",
    "\n",
    "this_year = datetime.now().year\n",
    "\n",
    "performance_8_keys = ['今年业绩%',\n",
    "                      str(this_year-1 ) + \"业绩(%)\" ,\n",
    "                      str(this_year-2 ) + \"业绩(%)\" ,\n",
    "                      str(this_year-3 ) + \"业绩(%)\" ,\n",
    "                      str(this_year-4 ) + \"业绩(%)\" ,\n",
    "                      str(this_year-5 ) + \"业绩(%)\" ,\n",
    "                      str(this_year-6 ) + \"业绩(%)\" ,\n",
    "                      str(this_year-7 ) + \"业绩(%)\" ,]\n",
    "\n",
    "performance_8 = dict(zip(performance_8_keys,performance_8_values))\n",
    "\n",
    "performance_8_series  = pd.Series(performance_8)"
   ]
  },
  {
   "cell_type": "markdown",
   "metadata": {},
   "source": [
    "### 历史回报"
   ]
  },
  {
   "cell_type": "code",
   "execution_count": 113,
   "metadata": {},
   "outputs": [],
   "source": [
    "qt_return1= browser.find_element_by_id('qt_return1')\n",
    "\n",
    "#历史回报[一个月，三个月，六个月，今年以来，一年，二年年化，三年年化，五年年化，十年年化]\n",
    "history_return_values = text2float([qt_return1.find_elements_by_tag_name('li')[li_no].text \n",
    "                                    for li_no in [6,11,16,21,26,31,36,41,46]])\n",
    "\n",
    "history_return_keys = ['一个月回报',\n",
    "                      '三个月回报',\n",
    "                      '六个月回报',\n",
    "                      '今年回报',\n",
    "                      '一年年化',\n",
    "                      '两年年化',\n",
    "                      '三年年化',\n",
    "                      '五年年化',\n",
    "                      '十年年化']\n",
    "history_return = dict(zip(history_return_keys,history_return_values))\n",
    "history_return_series = pd.Series(history_return)"
   ]
  },
  {
   "cell_type": "markdown",
   "metadata": {},
   "source": [
    "### 历史最差回报"
   ]
  },
  {
   "cell_type": "code",
   "execution_count": 127,
   "metadata": {},
   "outputs": [],
   "source": [
    "qt_worst = browser.find_element_by_id('qt_worst')\n",
    "\n",
    "#最差3个月，最差6个月回报\n",
    "worst3_6_values = text2float([qt_worst.find_elements_by_tag_name('li')[li_no].text for li_no in [1,3]])\n",
    "worst3_6_keys = ['最差3个月回报','最差6个月回报']\n",
    "worst3_6_series = dic2series(worst3_6_keys,worst3_6_values)"
   ]
  },
  {
   "cell_type": "markdown",
   "metadata": {},
   "source": [
    "### 晨星评级"
   ]
  },
  {
   "cell_type": "code",
   "execution_count": 128,
   "metadata": {},
   "outputs": [],
   "source": [
    "#获取评级的图片url\n",
    "qt_star =browser.find_element_by_id('qt_star')\n",
    "star_elements = qt_star.find_elements_by_tag_name('img')\n",
    "star_urls = [star_elements[no_img].get_attribute(\"src\") for no_img in [0,1,2]]\n",
    "\n",
    "#计算0-5星的sum值以备查找\n",
    "stars_sum = [sum_png('0.png'),sum_png('1.png'),sum_png('2.png'),sum_png('3.png'),sum_png('4.png'),sum_png('5.png')]\n",
    "\n",
    "#获取本基金3年/5年/10年评级图片sum值\n",
    "these_stars = [url2sum(url) for url in star_urls]\n",
    "\n",
    "#比对sum值获得评级\n",
    "stars_level_values = [stars_sum.index(sum_value) for sum_value in these_stars]\n",
    "stars_level_keys = ['3年评级','5年评级','10年评级']\n",
    "stars_level_series = dic2series(stars_level_keys,stars_level_values)"
   ]
  },
  {
   "cell_type": "markdown",
   "metadata": {},
   "source": [
    "### 风险评估\n",
    "输出下记形式列表：【标准差，晨星风险系数，夏普比率，阿尔法系数，贝塔系数，R平方】"
   ]
  },
  {
   "cell_type": "code",
   "execution_count": 129,
   "metadata": {},
   "outputs": [],
   "source": [
    "qt_risk = browser.find_element_by_id('qt_risk')\n",
    "qt_risk_lists = qt_risk.find_elements_by_tag_name('li')\n",
    "\n",
    "#标准差，晨星风险系数，夏普比率\n",
    "risks1 = [qt_risk_lists[li_no].text for li_no in [15,22,29]]\n",
    "\n",
    "qt_riskstats =browser.find_element_by_id('qt_riskstats')\n",
    "qt_riskstats_lists = qt_riskstats.find_elements_by_tag_name('li')\n",
    "\n",
    "#阿尔法系数，贝塔系数，R平方\n",
    "risks2 = [qt_riskstats_lists[li_no].text for li_no in [4,7,10]]\n",
    "\n",
    "#risk输出\n",
    "risks_values = text2float(risks1 + risks2)\n",
    "risks_keys = ['标准差',\n",
    "             '晨星风险系数',\n",
    "             '夏普比率',\n",
    "             '阿尔法系数',\n",
    "             '贝塔系数',\n",
    "             'R平方']\n",
    "risks_series = dic2series(risks_keys,risks_values)"
   ]
  },
  {
   "cell_type": "markdown",
   "metadata": {},
   "source": [
    "### 风险评级"
   ]
  },
  {
   "cell_type": "code",
   "execution_count": 149,
   "metadata": {},
   "outputs": [],
   "source": [
    "qt_rating = browser.find_element_by_id('qt_rating')\n",
    "\n",
    "#获取src字符串的星级数字\n",
    "these_rating_stars = [qt_rating.find_elements_by_tag_name('img')[li_no].get_attribute(\"src\")[-10] for li_no in [0,1,2,3]]\n",
    "risk_stars_values = text2float(these_rating_stars)\n",
    "risk_stars_keys = ['2年风险',\n",
    "                    '3年风险',\n",
    "                    '5年风险',\n",
    "                    '10年风险']\n",
    "risk_stars_seriis = dic2series(risk_stars_keys,risk_stars_values)"
   ]
  },
  {
   "cell_type": "markdown",
   "metadata": {},
   "source": [
    "### 资产分布\n",
    "输出：`asset_distribution` 【现金，股票，债券】"
   ]
  },
  {
   "cell_type": "code",
   "execution_count": 131,
   "metadata": {},
   "outputs": [],
   "source": [
    "qt_asset = browser.find_element_by_id('qt_asset')\n",
    "\n",
    "cash_pencent = qt_asset.find_element_by_class_name('cash').text\n",
    "stock_pencent = qt_asset.find_element_by_class_name('stock').text\n",
    "bonds_pencent = qt_asset.find_element_by_class_name('bonds').text\n",
    "\n",
    "#【现金，股票，债券】\n",
    "asset_distribution_values = text2float([cash_pencent,stock_pencent,bonds_pencent])\n",
    "asset_distribution_keys = ['现金比例(%)',\n",
    "                          '股票比例(%)',\n",
    "                          '债券比例(%)']\n",
    "asset_distribution_series = dic2series(asset_distribution_keys,asset_distribution_values)"
   ]
  },
  {
   "cell_type": "markdown",
   "metadata": {},
   "source": [
    "### 数据汇总"
   ]
  },
  {
   "cell_type": "code",
   "execution_count": 150,
   "metadata": {},
   "outputs": [],
   "source": [
    "data_series = pd.concat([base_info_series,\n",
    "                         performance_8_series,\n",
    "                        history_return_series,\n",
    "                        worst3_6_series,\n",
    "                        stars_level_series,\n",
    "                        risks_series,\n",
    "                        risk_stars_seriis,\n",
    "                        asset_distribution_series])"
   ]
  },
  {
   "cell_type": "code",
   "execution_count": 151,
   "metadata": {},
   "outputs": [],
   "source": [
    "now_time=datetime.now().strftime('%Y-%m-%d_%H-%M-%S')\n",
    "csv_path = now_time + '.csv'"
   ]
  },
  {
   "cell_type": "markdown",
   "metadata": {},
   "source": [
    "## 数据输出"
   ]
  },
  {
   "cell_type": "code",
   "execution_count": 154,
   "metadata": {},
   "outputs": [],
   "source": [
    "df = pd.DataFrame(data_series,columns=[fund_id])\n",
    "df.to_csv(csv_path, sep=',', header=True, index=True,encoding='utf_8_sig')"
   ]
  }
 ],
 "metadata": {
  "kernelspec": {
   "display_name": "Python 3",
   "language": "python",
   "name": "python3"
  },
  "language_info": {
   "codemirror_mode": {
    "name": "ipython",
    "version": 3
   },
   "file_extension": ".py",
   "mimetype": "text/x-python",
   "name": "python",
   "nbconvert_exporter": "python",
   "pygments_lexer": "ipython3",
   "version": "3.7.7"
  },
  "toc": {
   "base_numbering": 1,
   "nav_menu": {},
   "number_sections": true,
   "sideBar": true,
   "skip_h1_title": false,
   "title_cell": "Table of Contents",
   "title_sidebar": "Contents",
   "toc_cell": false,
   "toc_position": {
    "height": "calc(100% - 180px)",
    "left": "10px",
    "top": "150px",
    "width": "289px"
   },
   "toc_section_display": true,
   "toc_window_display": false
  }
 },
 "nbformat": 4,
 "nbformat_minor": 4
}
