{
 "cells": [
  {
   "cell_type": "markdown",
   "metadata": {},
   "source": [
    "# 1 Data Analysis\n",
    "## 1.1 Air-Conditioner Market Share Analysis\n",
    "### 1.1.1 Abstract\n",
    "- 爬虫爬取京东、苏宁、淘宝的空调的售卖信息\n",
    "- 数据展示\n",
    "\n",
    "### 1.1.2 Schedule\n",
    "- Ideas written down: 20170916_1810\n",
    "\n",
    "## 1.2 House Price Prediction\n",
    "### 1.1.1 Abstract\n",
    "- 政策因素的数字化：房市和股市此消彼长，股市对政策高度敏感，且容易数字化（例如 上证指数）。用股市的指数来数字化政策变化，同时因为房价对政策反应有滞后，所以加入一个时间补正参数。\n",
    "\n",
    "### 1.1.2 Schedule\n",
    "- Ideas written down: 20170916_2235\n",
    "\n",
    "# 2 Machine Learning\n",
    "## 2.1 Appearance Comparison\n",
    "### 2.1.1 Abstract\n",
    "- 搭建神经网络并近似相似度对比，并判断有血缘关系的概率\n",
    "\n",
    "### 2.1.2 Schedule"
   ]
  },
  {
   "cell_type": "code",
   "execution_count": null,
   "metadata": {
    "collapsed": true
   },
   "outputs": [],
   "source": []
  }
 ],
 "metadata": {
  "kernelspec": {
   "display_name": "Python 3",
   "language": "python",
   "name": "python3"
  },
  "language_info": {
   "codemirror_mode": {
    "name": "ipython",
    "version": 3
   },
   "file_extension": ".py",
   "mimetype": "text/x-python",
   "name": "python",
   "nbconvert_exporter": "python",
   "pygments_lexer": "ipython3",
   "version": "3.5.3"
  }
 },
 "nbformat": 4,
 "nbformat_minor": 2
}
