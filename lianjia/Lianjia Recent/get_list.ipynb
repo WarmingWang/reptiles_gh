{
 "cells": [
  {
   "cell_type": "markdown",
   "metadata": {},
   "source": [
    "根据链家最近7天，最近30天开房记录，判断市场火热度，以及某房型的火热度"
   ]
  },
  {
   "cell_type": "code",
   "execution_count": 1,
   "metadata": {
    "collapsed": true
   },
   "outputs": [],
   "source": [
    "import requests,time,os,csv,re,logging\n",
    "from bs4 import BeautifulSoup"
   ]
  },
  {
   "cell_type": "markdown",
   "metadata": {},
   "source": [
    "获取html"
   ]
  },
  {
   "cell_type": "code",
   "execution_count": 2,
   "metadata": {
    "collapsed": true
   },
   "outputs": [],
   "source": [
    "def get_html(url):\n",
    "    try:\n",
    "        r=requests.get(url,timeout=16)\n",
    "        status=r.status_code\n",
    "        r.raise_for_status()\n",
    "        r.encoding=r.apparent_encoding\n",
    "        return r.text\n",
    "    except:\n",
    "        now_time=time.strftime('%Y%m%d%H%M%S')\n",
    "        logging.info(now_time +'      ' +'get_html 异常, ' '    url：'+ url)   "
   ]
  },
  {
   "cell_type": "markdown",
   "metadata": {},
   "source": [
    "尝试获取n次"
   ]
  },
  {
   "cell_type": "code",
   "execution_count": 3,
   "metadata": {
    "collapsed": true
   },
   "outputs": [],
   "source": [
    "def get_n_times(page_url,n=5):\n",
    "    #获取页面失败或服务器错误时，重试n次\n",
    "    i=1\n",
    "    sleep_time=0.1\n",
    "    index_page=get_html(page_url)\n",
    "    \n",
    "    while index_page==None or \"小差\" in index_page:\n",
    "        if i > n:\n",
    "            break\n",
    "        else:\n",
    "            time.sleep(sleep_time)\n",
    "            index_page=get_html(page_url)\n",
    "            sleep_time+=0.1\n",
    "            i+=1                \n",
    "                               \n",
    "    return index_page"
   ]
  },
  {
   "cell_type": "markdown",
   "metadata": {},
   "source": [
    "获取某 tag 下总页数"
   ]
  },
  {
   "cell_type": "code",
   "execution_count": 22,
   "metadata": {
    "collapsed": true
   },
   "outputs": [],
   "source": [
    "def get_total_page(tag_url):\n",
    "    page_url=tag_url+'d1'\n",
    "    index_page=get_n_times(page_url)\n",
    "    \n",
    "    if index_page==None or \"小差\" in index_page:\n",
    "        total_page=101\n",
    "    else:\n",
    "        soup=BeautifulSoup(index_page,'html.parser')\n",
    "        taged_total_num=soup.find('div',attrs={'class':'resultDes clear'}).span.string   #共找到多少套\n",
    "#         total_page=int(taged_total_num)//30+1     #每页最多显示30套\n",
    "#         if total_page>100:\n",
    "#             total_page=100   #总数超过3000套只显示前3000套\n",
    "        page_data = soup.find('div',attrs={'class':'page-box house-lst-page-box'})['page-data']\n",
    "        total_page=eval(page_data)['totalPage']\n",
    "    return total_page"
   ]
  },
  {
   "cell_type": "code",
   "execution_count": 26,
   "metadata": {
    "collapsed": false
   },
   "outputs": [
    {
     "data": {
      "text/plain": [
       "' 219 '"
      ]
     },
     "execution_count": 26,
     "metadata": {},
     "output_type": "execute_result"
    }
   ],
   "source": [
    "soup.find('div',attrs={'class':'resultDes clear'}).span.string"
   ]
  },
  {
   "cell_type": "markdown",
   "metadata": {},
   "source": [
    "页面解析并写入csv"
   ]
  },
  {
   "cell_type": "code",
   "execution_count": 49,
   "metadata": {
    "collapsed": true
   },
   "outputs": [],
   "source": [
    "def parse_index_page(date,index_page,tag,page_num,total_page):\n",
    "    path=os.path.join(os.getcwd(),'results\\\\%s_index_info_all.csv')  %date #L2：两室，P21:200万以下\n",
    "    fieldnames=['date','tag','taged_total_num','total_page','page_num',\n",
    "                'key','title','total_price','total_price_unit','per_price','per_price_unit','prop1']\n",
    "    if  not os.path.exists(path):     #如果文件不存在，创建文件并写入表头\n",
    "        csv_file=open(path,'w',newline='')\n",
    "        writer=csv.DictWriter(csv_file,fieldnames=fieldnames)\n",
    "        writer.writeheader()\n",
    "        csv_file.close()\n",
    "        \n",
    "    csv_file=open(path,'a+',newline='')\n",
    "    writer=csv.DictWriter(csv_file,fieldnames=fieldnames)\n",
    "    \n",
    "    item={}\n",
    "    \n",
    "    soup=BeautifulSoup(index_page,'html.parser')\n",
    "    \n",
    "    #get_basic_info\n",
    "    \n",
    "    taged_total_num=soup.find('div',attrs={'class':'resultDes clear'}).span.string\n",
    "    \n",
    "    \n",
    "    \n",
    "    \n",
    "    #update_basic_info\n",
    "    item.update({'date':date,'tag':tag,'taged_total_num':taged_total_num,'total_page':total_page,'page_num':page_num})\n",
    "    \n",
    "    \n",
    "    index_info=soup.find_all('a',attrs={'class':'text link-hover-green js_triggerGray js_fanglist_title'})\n",
    "    for a in index_info:\n",
    "        key=a['key']\n",
    "        title=a['title']\n",
    "        item.update({'key':key,'title':title})\n",
    "        \n",
    "        price_div=a.parent.next_sibling.next_sibling\n",
    "        total_price=price_div.find('span',attrs={'class':'total-price strong-num'}).string\n",
    "        total_price_unit=price_div.find('span',attrs={'class':'unit'}).string\n",
    "        per_price_info=price_div.find('span',attrs={'class':'info-col price-item minor'}).string\n",
    "        per_price_info=re.search('(\\d+)(\\S{3})',per_price_info).groups()\n",
    "        per_price=per_price_info[0]\n",
    "        per_price_unit=per_price_info[1]\n",
    "        \n",
    "        prop_div=price_div.next_sibling.next_sibling\n",
    "        props=prop_div.find_all('span',attrs={'class':'c-prop-tag2'})\n",
    "        \n",
    "        if len(props)>0:\n",
    "            if \"距离\" in props[0].string:\n",
    "                prop1=props[0].string\n",
    "            else:\n",
    "                prop1=\"\"\n",
    "        else:\n",
    "            prop1=\"\"\n",
    "            \n",
    "#         prop2=props[1].string\n",
    "#         prop3=props[2].string\n",
    "        \n",
    "        item.update({'total_price':total_price,'total_price_unit':total_price_unit,'per_price':per_price,\n",
    "                    'per_price_unit':per_price_unit,'prop1':prop1})\n",
    "        \n",
    "        writer.writerow(item)    #定义writer2csv函数，每次调用函数写入item,结果是重复写入最后一个item，改用writer写入，无问题\n",
    "        \n",
    "    csv_file.close()"
   ]
  },
  {
   "cell_type": "code",
   "execution_count": 51,
   "metadata": {
    "collapsed": true
   },
   "outputs": [],
   "source": [
    "aa = soup.find_all('a',attrs={'class':'','target':'_blank'})"
   ]
  },
  {
   "cell_type": "code",
   "execution_count": 62,
   "metadata": {
    "collapsed": false
   },
   "outputs": [
    {
     "data": {
      "text/plain": [
       "<a class=\"img \" data-el=\"ershoufang\" data-housecode=\"107100029106\" data-is_focus=\"1\" data-log_index=\"3\" data-sl=\"\" href=\"https://sh.lianjia.com/ershoufang/107100029106.html\" target=\"_blank\"><div class=\"focus_tag\"></div><img class=\"video_tag\" src=\"https://s1.ljcdn.com/feroot/pc/asset/img/video.png?_v=20180713180618611\"><img alt=\"文怡花园次新大两房、已满五年、置换急卖、价格可谈！\" class=\"lj-lazy\" data-original=\"https://image1.ljcdn.com/shfdfs-image/20170811/56955eaa-ecd7-41cf-ac8b-629488981a42.jpg.296x216.jpg.232x174.jpg\" src=\"https://s1.ljcdn.com/feroot/pc/asset/img/blank.gif?_v=20180713180618611\"/></img></a>"
      ]
     },
     "execution_count": 62,
     "metadata": {},
     "output_type": "execute_result"
    }
   ],
   "source": [
    "aa[12]"
   ]
  },
  {
   "cell_type": "code",
   "execution_count": 63,
   "metadata": {
    "collapsed": false
   },
   "outputs": [
    {
     "data": {
      "text/plain": [
       "<a class=\"\" data-el=\"ershoufang\" data-housecode=\"107100029106\" data-is_focus=\"1\" data-log_index=\"3\" data-sl=\"\" href=\"https://sh.lianjia.com/ershoufang/107100029106.html\" target=\"_blank\">文怡花园次新大两房、已满五年、置换急卖、价格可谈！</a>"
      ]
     },
     "execution_count": 63,
     "metadata": {},
     "output_type": "execute_result"
    }
   ],
   "source": [
    "aa[13]"
   ]
  },
  {
   "cell_type": "code",
   "execution_count": 67,
   "metadata": {
    "collapsed": false
   },
   "outputs": [
    {
     "data": {
      "text/plain": [
       "12"
      ]
     },
     "execution_count": 67,
     "metadata": {},
     "output_type": "execute_result"
    }
   ],
   "source": [
    "len(soup.find_all('a',attrs={'data-is_focus':'1','data-el':'ershoufang'}))"
   ]
  },
  {
   "cell_type": "code",
   "execution_count": null,
   "metadata": {
    "collapsed": true
   },
   "outputs": [],
   "source": [
    "lambda tag:tag.has_attr('data-id') and tag.has_attr('id')"
   ]
  },
  {
   "cell_type": "code",
   "execution_count": 68,
   "metadata": {
    "collapsed": true
   },
   "outputs": [],
   "source": [
    "import re"
   ]
  },
  {
   "cell_type": "code",
   "execution_count": 72,
   "metadata": {
    "collapsed": false
   },
   "outputs": [],
   "source": [
    "aaa=(soup.find_all('a',attrs={'data-housecode':re.compile('\\d+')}))"
   ]
  },
  {
   "cell_type": "code",
   "execution_count": 76,
   "metadata": {
    "collapsed": false,
    "scrolled": true
   },
   "outputs": [
    {
     "data": {
      "text/plain": [
       "<a class=\"img \" data-el=\"ershoufang\" data-housecode=\"107002192893\" data-is_focus=\"\" data-log_index=\"1\" data-sl=\"\" href=\"https://sh.lianjia.com/ershoufang/107002192893.html\" target=\"_blank\"><img class=\"video_tag\" src=\"https://s1.ljcdn.com/feroot/pc/asset/img/video.png?_v=20180713180618611\"><img alt=\"5号线延伸线肖塘站 满五唯一税费少\" class=\"lj-lazy\" data-original=\"https://image1.ljcdn.com/shfdfs-image/20171224/b44495fe-0ae7-499e-aa01-597d13bdbef2.jpg.296x216.jpg.232x174.jpg\" src=\"https://s1.ljcdn.com/feroot/pc/asset/img/blank.gif?_v=20180713180618611\"/></img></a>"
      ]
     },
     "execution_count": 76,
     "metadata": {},
     "output_type": "execute_result"
    }
   ],
   "source": [
    "aaa[0]"
   ]
  },
  {
   "cell_type": "code",
   "execution_count": 78,
   "metadata": {
    "collapsed": false
   },
   "outputs": [
    {
     "name": "stdout",
     "output_type": "stream",
     "text": [
      "107002192893\n",
      "107002192893\n",
      "107000859767\n",
      "107000859767\n",
      "107100029106\n",
      "107100029106\n",
      "107000678367\n",
      "107000678367\n",
      "107100429553\n",
      "107100429553\n",
      "107100404897\n",
      "107100404897\n",
      "107000678019\n",
      "107000678019\n",
      "107000864143\n",
      "107000864143\n",
      "107002141163\n",
      "107002141163\n",
      "107100084698\n",
      "107100084698\n",
      "107100384312\n",
      "107100384312\n",
      "107100413346\n",
      "107100413346\n",
      "107000864965\n",
      "107000864965\n",
      "107002215131\n",
      "107002215131\n",
      "107100195484\n",
      "107100195484\n",
      "107002144015\n",
      "107002144015\n",
      "107002289125\n",
      "107002289125\n",
      "107000771309\n",
      "107000771309\n",
      "107100266713\n",
      "107100266713\n",
      "107000789357\n",
      "107000789357\n",
      "107002008665\n",
      "107002008665\n",
      "107002104621\n",
      "107002104621\n",
      "107002172403\n",
      "107002172403\n",
      "107100400391\n",
      "107100400391\n",
      "107000794959\n",
      "107000794959\n",
      "107002148795\n",
      "107002148795\n",
      "107000863529\n",
      "107000863529\n",
      "107000863731\n",
      "107000863731\n",
      "107100346897\n",
      "107100346897\n",
      "107100386743\n",
      "107100386743\n",
      "107002192893\n",
      "107002192893\n",
      "107000859767\n",
      "107000859767\n",
      "107100029106\n",
      "107100029106\n",
      "107000678367\n",
      "107000678367\n",
      "107100429553\n",
      "107100429553\n",
      "107100404897\n",
      "107100404897\n",
      "107000678019\n",
      "107000678019\n",
      "107000864143\n",
      "107000864143\n",
      "107002141163\n",
      "107002141163\n",
      "107100084698\n",
      "107100084698\n",
      "107100384312\n",
      "107100384312\n",
      "107100413346\n",
      "107100413346\n",
      "107000864965\n",
      "107000864965\n",
      "107002215131\n",
      "107002215131\n",
      "107100195484\n",
      "107100195484\n",
      "107002144015\n",
      "107002144015\n",
      "107002289125\n",
      "107002289125\n",
      "107000771309\n",
      "107000771309\n",
      "107100266713\n",
      "107100266713\n",
      "107000789357\n",
      "107000789357\n",
      "107002008665\n",
      "107002008665\n",
      "107002104621\n",
      "107002104621\n",
      "107002172403\n",
      "107002172403\n",
      "107100400391\n",
      "107100400391\n",
      "107000794959\n",
      "107000794959\n",
      "107002148795\n",
      "107002148795\n",
      "107000863529\n",
      "107000863529\n",
      "107000863731\n",
      "107000863731\n",
      "107100346897\n",
      "107100346897\n",
      "107100386743\n",
      "107100386743\n"
     ]
    }
   ],
   "source": [
    "for a in aaa:\n",
    "    print(a['data-housecode'])"
   ]
  },
  {
   "cell_type": "markdown",
   "metadata": {},
   "source": [
    "链接：\n",
    "\n",
    "西渡/两室/三室：https://sh.lianjia.com/ershoufang/xidu/l2l3/"
   ]
  },
  {
   "cell_type": "code",
   "execution_count": 35,
   "metadata": {
    "collapsed": false,
    "scrolled": true
   },
   "outputs": [],
   "source": [
    "base_url= 'https://sh.lianjia.com/ershoufang/xidu/l2l3/'\n",
    "date=time.strftime('%Y%m%d')\n",
    "# log_dir=os.path.join(os.getcwd(),'results/get_index.log')\n",
    "# logging.basicConfig(filename=log_dir,level=logging.INFO)"
   ]
  },
  {
   "cell_type": "code",
   "execution_count": 36,
   "metadata": {
    "collapsed": true
   },
   "outputs": [],
   "source": [
    "total_page=get_total_page(base_url)"
   ]
  },
  {
   "cell_type": "code",
   "execution_count": 32,
   "metadata": {
    "collapsed": false
   },
   "outputs": [],
   "source": [
    "urls = ['https://sh.lianjia.com/ershoufang/xidu/pg'+ str(i) +'l2l3/' for i in range(1,total_page+1)]"
   ]
  },
  {
   "cell_type": "code",
   "execution_count": 50,
   "metadata": {
    "collapsed": false,
    "scrolled": true
   },
   "outputs": [
    {
     "ename": "IndexError",
     "evalue": "list index out of range",
     "output_type": "error",
     "traceback": [
      "\u001b[0;31m---------------------------------------------------------------------------\u001b[0m",
      "\u001b[0;31mIndexError\u001b[0m                                Traceback (most recent call last)",
      "\u001b[0;32m<ipython-input-50-64c85b93a8b8>\u001b[0m in \u001b[0;36m<module>\u001b[0;34m()\u001b[0m\n\u001b[0;32m----> 1\u001b[0;31m \u001b[0mparse_index_page\u001b[0m\u001b[1;33m(\u001b[0m\u001b[0mdate\u001b[0m\u001b[1;33m,\u001b[0m\u001b[0mindex_page\u001b[0m\u001b[1;33m,\u001b[0m\u001b[1;34m'xidu/l2l3'\u001b[0m\u001b[1;33m,\u001b[0m\u001b[1;36m1\u001b[0m\u001b[1;33m,\u001b[0m\u001b[0mtotal_page\u001b[0m\u001b[1;33m)\u001b[0m\u001b[1;33m\u001b[0m\u001b[0m\n\u001b[0m",
      "\u001b[0;32m<ipython-input-49-b6b961555d87>\u001b[0m in \u001b[0;36mparse_index_page\u001b[0;34m(date, index_page, tag, page_num, total_page)\u001b[0m\n\u001b[1;32m     20\u001b[0m     \u001b[0mtaged_total_num\u001b[0m\u001b[1;33m=\u001b[0m\u001b[0msoup\u001b[0m\u001b[1;33m.\u001b[0m\u001b[0mfind\u001b[0m\u001b[1;33m(\u001b[0m\u001b[1;34m'div'\u001b[0m\u001b[1;33m,\u001b[0m\u001b[0mattrs\u001b[0m\u001b[1;33m=\u001b[0m\u001b[1;33m{\u001b[0m\u001b[1;34m'class'\u001b[0m\u001b[1;33m:\u001b[0m\u001b[1;34m'resultDes clear'\u001b[0m\u001b[1;33m}\u001b[0m\u001b[1;33m)\u001b[0m\u001b[1;33m.\u001b[0m\u001b[0mspan\u001b[0m\u001b[1;33m.\u001b[0m\u001b[0mstring\u001b[0m\u001b[1;33m\u001b[0m\u001b[0m\n\u001b[1;32m     21\u001b[0m     \u001b[0mstrong_num\u001b[0m\u001b[1;33m=\u001b[0m\u001b[0msoup\u001b[0m\u001b[1;33m.\u001b[0m\u001b[0mfind_all\u001b[0m\u001b[1;33m(\u001b[0m\u001b[1;34m'span'\u001b[0m\u001b[1;33m,\u001b[0m\u001b[0mattrs\u001b[0m\u001b[1;33m=\u001b[0m\u001b[1;33m{\u001b[0m\u001b[1;34m'class'\u001b[0m\u001b[1;33m:\u001b[0m\u001b[1;34m'num strong-num'\u001b[0m\u001b[1;33m}\u001b[0m\u001b[1;33m)\u001b[0m\u001b[1;33m\u001b[0m\u001b[0m\n\u001b[0;32m---> 22\u001b[0;31m     \u001b[0mon_sale_num\u001b[0m\u001b[1;33m=\u001b[0m\u001b[0mstrong_num\u001b[0m\u001b[1;33m[\u001b[0m\u001b[1;36m0\u001b[0m\u001b[1;33m]\u001b[0m\u001b[1;33m.\u001b[0m\u001b[0mstring\u001b[0m                \u001b[1;31m#在售总数\u001b[0m\u001b[1;33m\u001b[0m\u001b[0m\n\u001b[0m\u001b[1;32m     23\u001b[0m     \u001b[0msaled_in_90d\u001b[0m\u001b[1;33m=\u001b[0m\u001b[0mstrong_num\u001b[0m\u001b[1;33m[\u001b[0m\u001b[1;36m1\u001b[0m\u001b[1;33m]\u001b[0m\u001b[1;33m.\u001b[0m\u001b[0mstring\u001b[0m               \u001b[1;31m#近90天成交\u001b[0m\u001b[1;33m\u001b[0m\u001b[0m\n\u001b[1;32m     24\u001b[0m     \u001b[0mlast_day_viewed\u001b[0m\u001b[1;33m=\u001b[0m\u001b[0mstrong_num\u001b[0m\u001b[1;33m[\u001b[0m\u001b[1;36m2\u001b[0m\u001b[1;33m]\u001b[0m\u001b[1;33m.\u001b[0m\u001b[0mstring\u001b[0m            \u001b[1;31m#昨天带看次数\u001b[0m\u001b[1;33m\u001b[0m\u001b[0m\n",
      "\u001b[0;31mIndexError\u001b[0m: list index out of range"
     ]
    }
   ],
   "source": [
    "parse_index_page(date,index_page,'xidu/l2l3',1,total_page)"
   ]
  },
  {
   "cell_type": "code",
   "execution_count": 44,
   "metadata": {
    "collapsed": true
   },
   "outputs": [],
   "source": [
    "path=os.path.join(os.getcwd(),'results\\\\%s_index_info_all.csv')  %date"
   ]
  },
  {
   "cell_type": "code",
   "execution_count": 45,
   "metadata": {
    "collapsed": false
   },
   "outputs": [
    {
     "data": {
      "text/plain": [
       "False"
      ]
     },
     "execution_count": 45,
     "metadata": {},
     "output_type": "execute_result"
    }
   ],
   "source": [
    "os.path.exists(path)"
   ]
  },
  {
   "cell_type": "code",
   "execution_count": 46,
   "metadata": {
    "collapsed": false
   },
   "outputs": [
    {
     "ename": "FileNotFoundError",
     "evalue": "[Errno 2] No such file or directory: 'D:\\\\F Virtual\\\\Codes\\\\py\\\\pycharm\\\\GitHub\\\\reptiles_gh\\\\lianjia\\\\Lianjia Recent\\\\results\\\\20180716_index_info_all.csv'",
     "output_type": "error",
     "traceback": [
      "\u001b[0;31m---------------------------------------------------------------------------\u001b[0m",
      "\u001b[0;31mFileNotFoundError\u001b[0m                         Traceback (most recent call last)",
      "\u001b[0;32m<ipython-input-46-a5c503ec4e8a>\u001b[0m in \u001b[0;36m<module>\u001b[0;34m()\u001b[0m\n\u001b[0;32m----> 1\u001b[0;31m \u001b[0mcsv_file\u001b[0m\u001b[1;33m=\u001b[0m\u001b[0mopen\u001b[0m\u001b[1;33m(\u001b[0m\u001b[0mpath\u001b[0m\u001b[1;33m,\u001b[0m\u001b[1;34m'w'\u001b[0m\u001b[1;33m,\u001b[0m\u001b[0mnewline\u001b[0m\u001b[1;33m=\u001b[0m\u001b[1;34m''\u001b[0m\u001b[1;33m)\u001b[0m\u001b[1;33m\u001b[0m\u001b[0m\n\u001b[0m",
      "\u001b[0;31mFileNotFoundError\u001b[0m: [Errno 2] No such file or directory: 'D:\\\\F Virtual\\\\Codes\\\\py\\\\pycharm\\\\GitHub\\\\reptiles_gh\\\\lianjia\\\\Lianjia Recent\\\\results\\\\20180716_index_info_all.csv'"
     ]
    }
   ],
   "source": [
    "csv_file=open(path,'w',newline='')"
   ]
  },
  {
   "cell_type": "code",
   "execution_count": null,
   "metadata": {
    "collapsed": true
   },
   "outputs": [],
   "source": []
  }
 ],
 "metadata": {
  "kernelspec": {
   "display_name": "Python 3",
   "language": "python",
   "name": "python3"
  },
  "language_info": {
   "codemirror_mode": {
    "name": "ipython",
    "version": 3
   },
   "file_extension": ".py",
   "mimetype": "text/x-python",
   "name": "python",
   "nbconvert_exporter": "python",
   "pygments_lexer": "ipython3",
   "version": "3.6.0"
  }
 },
 "nbformat": 4,
 "nbformat_minor": 2
}
