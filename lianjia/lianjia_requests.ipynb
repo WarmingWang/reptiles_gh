{
 "cells": [
  {
   "cell_type": "code",
   "execution_count": 1,
   "metadata": {
    "scrolled": true
   },
   "outputs": [],
   "source": [
    "import requests,time,os,csv,re\n",
    "from bs4 import BeautifulSoup\n",
    "\n",
    "url_base='http://sh.lianjia.com/ershoufang/d'"
   ]
  },
  {
   "cell_type": "code",
   "execution_count": 2,
   "metadata": {
    "collapsed": true
   },
   "outputs": [],
   "source": [
    "def get_html(url):\n",
    "    try:\n",
    "        r=requests.get(url,timeout=16)\n",
    "        r.raise_for_status()\n",
    "        r.encoding=r.apparent_encoding\n",
    "        return r.text\n",
    "    except:\n",
    "        print(\"索引页面获取异常\")"
   ]
  },
  {
   "cell_type": "code",
   "execution_count": 3,
   "metadata": {
    "collapsed": true
   },
   "outputs": [],
   "source": [
    "def get_total_num(html):\n",
    "    soup=BeautifulSoup(html,'html.parser')\n",
    "    div=soup.find('div',attrs={'class':'search-result'})\n",
    "    return div.span.string"
   ]
  },
  {
   "cell_type": "code",
   "execution_count": 4,
   "metadata": {
    "scrolled": true
   },
   "outputs": [],
   "source": [
    "date=time.strftime('%Y%m%d')\n",
    "total_num=get_total_num(get_html('http://sh.lianjia.com/ershoufang/d1'))"
   ]
  },
  {
   "cell_type": "code",
   "execution_count": 5,
   "metadata": {},
   "outputs": [],
   "source": [
    "def parse_index_page(date,total_num,index_page):\n",
    "    path=os.path.join(os.getcwd(),'indexInfo.csv')\n",
    "    fieldnames=['date','total_num','key','title','total_price','total_price_unit','per_price','per_price_unit','prop1']\n",
    "    if  not os.path.exists(path):     #如果文件不存在，创建文件并写入表头\n",
    "        csv_file=open(path,'w',newline='')\n",
    "        writer=csv.DictWriter(csv_file,fieldnames=fieldnames)\n",
    "        writer.writeheader()\n",
    "        csv_file.close()\n",
    "        \n",
    "    csv_file=open(path,'a+',newline='')\n",
    "    writer=csv.DictWriter(csv_file,fieldnames=fieldnames)\n",
    "    \n",
    "    \n",
    "    item={}\n",
    "    item.update({'date':date,'total_num':total_num})\n",
    "    \n",
    "    soup=BeautifulSoup(index_page,'html.parser')\n",
    "    index_info=soup.find_all('a',attrs={'class':'text link-hover-green js_triggerGray js_fanglist_title'})\n",
    "    for a in index_info:\n",
    "        key=a['key']\n",
    "        title=a['title']\n",
    "        item.update({'key':key,'title':title})\n",
    "        \n",
    "        price_div=a.parent.next_sibling.next_sibling\n",
    "        total_price=price_div.find('span',attrs={'class':'total-price strong-num'}).string\n",
    "        total_price_unit=price_div.find('span',attrs={'class':'unit'}).string\n",
    "        per_price_info=price_div.find('span',attrs={'class':'info-col price-item minor'}).string\n",
    "        per_price_info=re.search('(\\d+)(\\S{3})',per_price_info).groups()\n",
    "        per_price=per_price_info[0]\n",
    "        per_price_unit=per_price_info[1]\n",
    "        \n",
    "        prop_div=price_div.next_sibling.next_sibling\n",
    "        props=prop_div.find_all('span',attrs={'class':'c-prop-tag2'})\n",
    "        prop1=props[0].string\n",
    "#         prop2=props[1].string\n",
    "#         prop3=props[2].string\n",
    "        \n",
    "        item.update({'total_price':total_price,'total_price_unit':total_price_unit,'per_price':per_price,\n",
    "                    'per_price_unit':per_price_unit,'prop1':prop1})\n",
    "        \n",
    "        writer.writerow(item)    #定义writer2csv函数，每次调用函数写入item,结果是重复写入最后一个item，改用writer写入，无问题\n",
    "        \n",
    "        \n",
    "    csv_file.close()"
   ]
  },
  {
   "cell_type": "code",
   "execution_count": 6,
   "metadata": {
    "collapsed": true
   },
   "outputs": [],
   "source": [
    "def parse_detail_page(detail_page):\n",
    "    pass"
   ]
  },
  {
   "cell_type": "code",
   "execution_count": 7,
   "metadata": {},
   "outputs": [],
   "source": [
    "def get_all_items():\n",
    "    for i in range(1,30):\n",
    "        url=url_base+str(i)\n",
    "        index_page=get_html(url)\n",
    "        parse_index_page(date,total_num,index_page)\n",
    "        time.sleep(3)"
   ]
  },
  {
   "cell_type": "code",
   "execution_count": 8,
   "metadata": {},
   "outputs": [],
   "source": [
    "def main():\n",
    "    get_all_items()\n",
    "\n",
    "main()"
   ]
  },
  {
   "cell_type": "code",
   "execution_count": null,
   "metadata": {
    "collapsed": true
   },
   "outputs": [],
   "source": []
  }
 ],
 "metadata": {
  "kernelspec": {
   "display_name": "Python 3",
   "language": "python",
   "name": "python3"
  },
  "language_info": {
   "codemirror_mode": {
    "name": "ipython",
    "version": 3
   },
   "file_extension": ".py",
   "mimetype": "text/x-python",
   "name": "python",
   "nbconvert_exporter": "python",
   "pygments_lexer": "ipython3",
   "version": "3.5.3"
  }
 },
 "nbformat": 4,
 "nbformat_minor": 2
}
