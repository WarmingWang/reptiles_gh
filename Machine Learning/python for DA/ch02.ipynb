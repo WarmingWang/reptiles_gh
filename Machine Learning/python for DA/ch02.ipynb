{
 "cells": [
  {
   "cell_type": "markdown",
   "metadata": {
    "collapsed": true
   },
   "source": [
    "###Python for data \n",
    "This is a jupyter test file"
   ]
  },
  {
   "cell_type": "code",
   "execution_count": 21,
   "metadata": {},
   "outputs": [],
   "source": [
    "import pandas as pd\n",
    "import numpy as np\n",
    "import matplotlib.pyplot as plt"
   ]
  },
  {
   "cell_type": "code",
   "execution_count": 22,
   "metadata": {},
   "outputs": [],
   "source": [
    "from matplotlib import rcParams\n",
    "# rcParams['axes.edgecolor']='white'\n",
    "# rcParams['xtick.color']='black'\n",
    "# rcParams['ytick.color']='black'\n",
    "# rcParams['axes.labelcolor']='black'\n",
    "# rcParams['text.color']='black'\n",
    "rcParams['figure.facecolor']=(1, 1, 1, 1)\n",
    "# rcParams['figure.edgecolor']=(1, 1, 1, 1)\n",
    "\n",
    "\n",
    "# list=[(param, value) for param, value in plt.rcParams.items() if 'color' in param]\n",
    "# list"
   ]
  },
  {
   "cell_type": "code",
   "execution_count": 23,
   "metadata": {},
   "outputs": [],
   "source": [
    "# names1880=pd.read_csv('data/ch02/names/yob1880.txt',names=['name','sex','births'])\n",
    "# count_by_sex=names1880.groupby('sex').births.sum()"
   ]
  },
  {
   "cell_type": "code",
   "execution_count": 23,
   "metadata": {},
   "outputs": [],
   "source": [
    "years=range(1880,2011)\n",
    "pieces=[]\n",
    "columns=['name','sex','births']\n",
    "\n",
    "for year in years:\n",
    "    relative_path='Machine Learning/python for DA/DATA/ch02/names/yob%d.txt'  % year\n",
    "    frame=pd.read_csv(relative_path,names=columns)\n",
    "    frame['year']=year\n",
    "    pieces.append(frame)\n",
    "\n",
    "names=pd.concat(pieces,ignore_index=True)"
   ]
  },
  {
   "cell_type": "code",
   "execution_count": 25,
   "metadata": {},
   "outputs": [],
   "source": [
    "def plt_year_sex():\n",
    "    year_sex=names.pivot_table(values='births',columns=['sex'],index=['year'],aggfunc=np.sum)\n",
    "    year_sex.plot(title='Year-Sex')\n",
    "    plt.show()"
   ]
  },
  {
   "cell_type": "code",
   "execution_count": 26,
   "metadata": {},
   "outputs": [],
   "source": [
    "def add_prop(group):\n",
    "    births=group.births.astype(float)\n",
    "    group['prop']=births/births.sum()  #births.sum()是对按year,sex分组后的小组内求和\n",
    "    return group"
   ]
  },
  {
   "cell_type": "code",
   "execution_count": 27,
   "metadata": {},
   "outputs": [
    {
     "data": {
      "text/plain": [
       "True"
      ]
     },
     "execution_count": 26,
     "metadata": {},
     "output_type": "execute_result"
    }
   ],
   "source": [
    "names=names.groupby(['year','sex']).apply(add_prop) #得到1880年name1 Female人数占 1880年 Female总人数的比例\n",
    "check=np.allclose(names.groupby(['year','sex']).prop.sum(),1)\n",
    "check"
   ]
  },
  {
   "cell_type": "code",
   "execution_count": 28,
   "metadata": {
    "collapsed": false
   },
   "outputs": [
    {
     "data": {
      "image/png": "[encoded data removed]",
      "text/plain": [
       "<matplotlib.figure.Figure at 0x2274e7f0>"
      ]
     },
     "metadata": {},
     "output_type": "display_data"
    }
   ],
   "source": [
    "plt_year_sex()"
   ]
  },
  {
   "cell_type": "code",
   "execution_count": 29,
   "metadata": {},
   "outputs": [],
   "source": [
    "def get_top1000(group):\n",
    "    return group.sort_values(by='births',ascending=False)[:1000]\n",
    "\n",
    "grouped=names.groupby(['year','sex'])\n",
    "top1000=grouped.apply(get_top1000)\n",
    "# top1000"
   ]
  },
  {
   "cell_type": "markdown",
   "metadata": {},
   "source": [
    "###分析命名趋势"
   ]
  },
  {
   "cell_type": "code",
   "execution_count": 30,
   "metadata": {},
   "outputs": [
    {
     "name": "stderr",
     "output_type": "stream",
     "text": [
      "D:\\Python\\anaconda3\\envs\\tensorflow\\lib\\site-packages\\pandas\\core\\reshape\\pivot.py:135: FutureWarning: 'year' is both a column name and an index level.\nDefaulting to column but this will raise an ambiguity error in a future version\n  grouped = data.groupby(keys)\n"
     ]
    }
   ],
   "source": [
    "boys=top1000[top1000.sex=='M']\n",
    "girls=top1000[top1000.sex=='F']\n",
    "\n",
    "total_births=pd.pivot_table(top1000,values='births',index='year',columns='name',aggfunc=sum)\n",
    "subset=total_births[['John','Harry','Mary','Marilyn']]\n",
    "\n",
    "subset.plot(subplots=True,figsize=(12,10),grid=False,title='Number of births per year')\n",
    "plt.show()"
   ]
  },
  {
   "cell_type": "code",
   "execution_count": 29,
   "metadata": {},
   "outputs": [],
   "source": [
    ""
   ]
  },
  {
   "cell_type": "code",
   "execution_count": null,
   "metadata": {},
   "outputs": [],
   "source": [
    ""
   ]
  }
 ],
 "metadata": {
  "kernelspec": {
   "display_name": "Python 2",
   "language": "python",
   "name": "python2"
  },
  "language_info": {
   "codemirror_mode": {
    "name": "ipython",
    "version": 2.0
   },
   "file_extension": ".py",
   "mimetype": "text/x-python",
   "name": "python",
   "nbconvert_exporter": "python",
   "pygments_lexer": "ipython2",
   "version": "2.7.6"
  }
 },
 "nbformat": 4,
 "nbformat_minor": 0
}