{
 "cells": [
  {
   "cell_type": "markdown",
   "metadata": {
    "collapsed": true
   },
   "source": [
    "## 2.11 Vectorization"
   ]
  },
  {
   "cell_type": "markdown",
   "metadata": {},
   "source": [
    "If $x = [x_1, x_2, ..., x_n]$, then `np.dot(x,x)` = $\\sum_{j=0}^n x_j^{2}$. "
   ]
  },
  {
   "cell_type": "code",
   "execution_count": null,
   "metadata": {
    "collapsed": true
   },
   "outputs": [],
   "source": [
    "import numpy as np\n",
    "import time"
   ]
  },
  {
   "cell_type": "code",
   "execution_count": 3,
   "metadata": {
    "collapsed": true
   },
   "outputs": [],
   "source": [
    "w=np.random.rand(1000000)\n",
    "a=np.random.rand(1000000)"
   ]
  },
  {
   "cell_type": "code",
   "execution_count": 15,
   "metadata": {},
   "outputs": [
    {
     "name": "stdout",
     "output_type": "stream",
     "text": [
      "249915.843533\n",
      "Vectorization:2.5031566619873047ms\n",
      "249915.843533\n",
      "for loop:987.6565933227539ms\n"
     ]
    }
   ],
   "source": [
    "z=0\n",
    "tic =time.time()\n",
    "z=np.dot(w,a)\n",
    "toc =time.time()\n",
    "print(z)\n",
    "print(\"Vectorization:\" + str(1000*(toc-tic))+\"ms\" )\n",
    "\n",
    "z=0\n",
    "tic=time.time()\n",
    "for i in range(1000000):\n",
    "    z+=w[i]*a[i]\n",
    "toc=time.time()\n",
    "print(z)\n",
    "print('for loop:'+ str(1000*(toc-tic)) + \"ms\")"
   ]
  },
  {
   "cell_type": "code",
   "execution_count": 7,
   "metadata": {
    "collapsed": true
   },
   "outputs": [],
   "source": [
    "x=np.random.rand(10000000).reshape(1000000,10)"
   ]
  },
  {
   "cell_type": "markdown",
   "metadata": {},
   "source": [
    "## 2.16 A Note on Numpy Vectors"
   ]
  },
  {
   "cell_type": "markdown",
   "metadata": {},
   "source": [
    "### np.dot(w,x)=np.dot(w.T,x)\n",
    "- w 由`random.rand` 生成，`w.shape=(1000000,)` 所以在做 `np.dot(w,x)` 计算时，会根据x的shape调整为列向量。所以 `np.dot(w,x)=np.dot(w.T,x)`\n",
    "- `w.reshape(10000,1)`\n",
    "- 再计算 `np.dot(w,x)` 报错"
   ]
  },
  {
   "cell_type": "code",
   "execution_count": 16,
   "metadata": {},
   "outputs": [
    {
     "data": {
      "text/plain": [
       "array([ True,  True,  True,  True,  True,  True,  True,  True,  True,  True], dtype=bool)"
      ]
     },
     "execution_count": 16,
     "metadata": {},
     "output_type": "execute_result"
    }
   ],
   "source": [
    "np.dot(w,x)==np.dot(w.T,x)"
   ]
  },
  {
   "cell_type": "code",
   "execution_count": 12,
   "metadata": {
    "collapsed": true
   },
   "outputs": [],
   "source": [
    "ww=w.reshape(1000000,1)"
   ]
  },
  {
   "cell_type": "code",
   "execution_count": 15,
   "metadata": {},
   "outputs": [
    {
     "ename": "ValueError",
     "evalue": "shapes (1000000,1) and (1000000,10) not aligned: 1 (dim 1) != 1000000 (dim 0)",
     "output_type": "error",
     "traceback": [
      "\u001b[1;31m---------------------------------------------------------------------------\u001b[0m",
      "\u001b[1;31mValueError\u001b[0m                                Traceback (most recent call last)",
      "\u001b[1;32m<ipython-input-15-090753080079>\u001b[0m in \u001b[0;36m<module>\u001b[1;34m()\u001b[0m\n\u001b[1;32m----> 1\u001b[1;33m \u001b[0mnp\u001b[0m\u001b[1;33m.\u001b[0m\u001b[0mdot\u001b[0m\u001b[1;33m(\u001b[0m\u001b[0mww\u001b[0m\u001b[1;33m,\u001b[0m\u001b[0mx\u001b[0m\u001b[1;33m)\u001b[0m\u001b[1;33m\u001b[0m\u001b[0m\n\u001b[0m",
      "\u001b[1;31mValueError\u001b[0m: shapes (1000000,1) and (1000000,10) not aligned: 1 (dim 1) != 1000000 (dim 0)"
     ]
    }
   ],
   "source": [
    "np.dot(ww,x)"
   ]
  },
  {
   "cell_type": "markdown",
   "metadata": {
    "collapsed": true
   },
   "source": [
    "<font color='BLUE'>\n",
    "**Notes**\n",
    "- w.shape:(n,); w is a rank 1 array, not a vector.\n",
    "  Don't use rank 1 array, replaced it by (n,1) matrix\n",
    "- feel free to use **`assert()`** to make clear the shape.\n",
    "- use **`w.reshape(n,1)`** when you get a rank 1 array;"
   ]
  },
  {
   "cell_type": "code",
   "execution_count": 6,
   "metadata": {},
   "outputs": [
    {
     "data": {
      "text/plain": [
       "array([[ 0.02505038,  0.02366435,  0.13486081,  0.10528089],\n",
       "       [ 0.02366435,  0.022355  ,  0.12739899,  0.09945573],\n",
       "       [ 0.13486081,  0.12739899,  0.72603445,  0.5667885 ],\n",
       "       [ 0.10528089,  0.09945573,  0.5667885 ,  0.44247102]])"
      ]
     },
     "execution_count": 6,
     "metadata": {},
     "output_type": "execute_result"
    }
   ],
   "source": [
    "x=np.random.rand(4,1)\n",
    "assert(x.shape==(4,1))\n",
    "np.dot(x,x.T)"
   ]
  }
 ],
 "metadata": {
  "kernelspec": {
   "display_name": "Python 3",
   "language": "python",
   "name": "python3"
  },
  "language_info": {
   "codemirror_mode": {
    "name": "ipython",
    "version": 3
   },
   "file_extension": ".py",
   "mimetype": "text/x-python",
   "name": "python",
   "nbconvert_exporter": "python",
   "pygments_lexer": "ipython3",
   "version": "3.5.3"
  }
 },
 "nbformat": 4,
 "nbformat_minor": 2
}
